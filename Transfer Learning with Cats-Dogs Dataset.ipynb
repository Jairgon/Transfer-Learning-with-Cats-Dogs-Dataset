{
 "cells": [
  {
   "cell_type": "markdown",
   "metadata": {},
   "source": [
    "## Transfer learning Cats vs Dogs\n",
    "It recognizes an image and tells you if it is a cat or a dog.\n",
    "at the end you can upload your image and check it. "
   ]
  },
  {
   "cell_type": "code",
   "execution_count": 1,
   "metadata": {},
   "outputs": [],
   "source": [
    "import tensorflow as tf\n",
    "import os \n",
    "import zipfile\n",
    "import random\n",
    "from tensorflow.keras.preprocessing.image import ImageDataGenerator\n",
    "from tensorflow.keras import Model\n",
    "from tensorflow.keras.applications.inception_v3 import InceptionV3\n",
    "from shutil import copyfile"
   ]
  },
  {
   "cell_type": "code",
   "execution_count": 2,
   "metadata": {},
   "outputs": [],
   "source": [
    "ji= \"kagglecatsanddogs_3367a.zip\"\n",
    "\n",
    "zipa= zipfile.ZipFile(ji,\"r\")\n",
    "zipa.extractall(\"PetImages\")\n",
    "zipa.close()"
   ]
  },
  {
   "cell_type": "code",
   "execution_count": 3,
   "metadata": {},
   "outputs": [
    {
     "name": "stdout",
     "output_type": "stream",
     "text": [
      " Number of Cats  12501\n",
      " Number of Dogs  12501\n"
     ]
    }
   ],
   "source": [
    "print(\" Number of Cats \",len(os.listdir(\"petImages/cat\")))\n",
    "print(\" Number of Dogs \",len( os.listdir(\"petImages/dog\")))\n"
   ]
  },
  {
   "cell_type": "code",
   "execution_count": 4,
   "metadata": {},
   "outputs": [],
   "source": [
    "# Create the folders.\n",
    "try:\n",
    "    os.mkdir(\"petImages/training\")\n",
    "    os.mkdir(\"petImages/testing\")\n",
    "    os.mkdir(\"petImages/training/cats\")\n",
    "    os.mkdir(\"petImages/testing/cats\")\n",
    "    os.mkdir(\"petImages/testing/dogs\")\n",
    "    os.mkdir(\"petImages/training/dogs\")\n",
    "    \n",
    "except OSError:\n",
    "    pass"
   ]
  },
  {
   "cell_type": "code",
   "execution_count": 5,
   "metadata": {},
   "outputs": [
    {
     "name": "stdout",
     "output_type": "stream",
     "text": [
      "The file 666.jpg is zero length\n",
      "The file 11702.jpg is zero length\n"
     ]
    }
   ],
   "source": [
    "# Split the images in training and testing folder.\n",
    "\n",
    "def split_function(source,training,testing,split_size):\n",
    "    files=[]\n",
    "    for w in os.listdir(source):\n",
    "        file= source+w\n",
    "        if os.path.getsize(file)>0:\n",
    "            files.append(w)\n",
    "        else:\n",
    "            print(f\"The file {w} is zero length\")\n",
    "            \n",
    "    train_size= int(len(files)*split_size)\n",
    "    test_size=int(len(files) -train_size)\n",
    "    \n",
    "    files_new= random.sample(files,len(files))\n",
    "    \n",
    "    train= files_new[:train_size]\n",
    "    test= files_new[train_size:]\n",
    "    \n",
    "    for m in train:\n",
    "        archivo= source+m\n",
    "        destination = training+m\n",
    "        copyfile(archivo,destination)\n",
    "        \n",
    "    for j in test:\n",
    "        archivo= source+j\n",
    "        destination= testing+j\n",
    "        copyfile(archivo,destination)\n",
    "        \n",
    "cat_source= \"petImages/cat/\"\n",
    "cat_training=\"petImages/training/cats/\"\n",
    "cat_testing= \"petImages/testing/cats/\"\n",
    "dog_source=\"petImages/dog/\"\n",
    "dog_training=\"petImages/training/dogs/\"\n",
    "dog_testing= \"petImages/testing/dogs/\"\n",
    "\n",
    "split_size=0.9\n",
    "        \n",
    "split_function(cat_source,cat_training,cat_testing,split_size)\n",
    "split_function(dog_source,dog_training,dog_testing,split_size)    \n",
    "        "
   ]
  },
  {
   "cell_type": "code",
   "execution_count": 6,
   "metadata": {},
   "outputs": [
    {
     "name": "stdout",
     "output_type": "stream",
     "text": [
      "Number of Cats in training 12499\n",
      "Number of Dogs in training 12488\n",
      "Number of Dogs in testing 3401\n",
      "Number of Cats in testing 4291\n"
     ]
    }
   ],
   "source": [
    "\n",
    "print(\"Number of Cats in training\",len(os.listdir(\"petImages/training/cats/\")))\n",
    "print(\"Number of Dogs in training\",len(os.listdir(\"petImages/training/dogs/\")))\n",
    "print(\"Number of Dogs in testing\",len(os.listdir(\"petImages/testing/dogs/\")))\n",
    "print(\"Number of Cats in testing\",len(os.listdir(\"petImages/testing/cats\")))\n"
   ]
  },
  {
   "cell_type": "code",
   "execution_count": 7,
   "metadata": {},
   "outputs": [
    {
     "name": "stdout",
     "output_type": "stream",
     "text": [
      "Found 24985 images belonging to 2 classes.\n"
     ]
    }
   ],
   "source": [
    "# create the labels and change a little the images in training\n",
    "trian_dor=\"petImages/training/\"\n",
    "train_data= ImageDataGenerator(\n",
    "    rescale= 1/255,\n",
    "    rotation_range=40,\n",
    "    width_shift_range=0.2,\n",
    "    height_shift_range=0.2,\n",
    "    shear_range=0.2,\n",
    "    zoom_range=0.2,\n",
    "    horizontal_flip=True,\n",
    "    fill_mode=\"nearest\")\n",
    "    \n",
    "train_dir= train_data.flow_from_directory(\n",
    "    trian_dor,\n",
    "    target_size=(150,150),\n",
    "    batch_size=100,\n",
    "    class_mode=\"binary\")\n",
    "    \n",
    "    "
   ]
  },
  {
   "cell_type": "code",
   "execution_count": 8,
   "metadata": {},
   "outputs": [
    {
     "name": "stdout",
     "output_type": "stream",
     "text": [
      "Found 7690 images belonging to 2 classes.\n"
     ]
    }
   ],
   "source": [
    "# create the labels in testing\n",
    "\n",
    "validation_dor=\"petImages/testing/\"\n",
    "vali_data= ImageDataGenerator(rescale=1/255)\n",
    "\n",
    "vali_dir= vali_data.flow_from_directory(\n",
    "    validation_dor,\n",
    "    target_size=(150,150),\n",
    "    batch_size=100,\n",
    "    class_mode=\"binary\")"
   ]
  },
  {
   "cell_type": "markdown",
   "metadata": {},
   "source": [
    "## Model with InceptionV3"
   ]
  },
  {
   "cell_type": "code",
   "execution_count": 9,
   "metadata": {},
   "outputs": [
    {
     "name": "stdout",
     "output_type": "stream",
     "text": [
      "last layer output shape:  (None, 7, 7, 768)\n"
     ]
    }
   ],
   "source": [
    "link=\"inception_v3_weights_tf_dim_ordering_tf_kernels_notop.h5\"\n",
    "\n",
    "pre_trained_model= InceptionV3(input_shape=(150,150,3),\n",
    "    include_top=False,\n",
    "    weights=None)\n",
    "   \n",
    "# load pre-trained weights\n",
    "pre_trained_model.load_weights(link)\n",
    "\n",
    "# freeze the layers\n",
    "for layer in pre_trained_model.layers:\n",
    "    layer.trainable = False\n",
    "\n",
    "last_layer= pre_trained_model.get_layer(\"mixed7\")\n",
    "print('last layer output shape: ', last_layer.output_shape)\n",
    "\n",
    "last_output=last_layer.output"
   ]
  },
  {
   "cell_type": "code",
   "execution_count": 10,
   "metadata": {},
   "outputs": [
    {
     "name": "stdout",
     "output_type": "stream",
     "text": [
      "last layer output shape:  (None, 7, 7, 768)\n"
     ]
    }
   ],
   "source": [
    "print('last layer output shape: ', last_layer.output_shape)"
   ]
  },
  {
   "cell_type": "code",
   "execution_count": 11,
   "metadata": {},
   "outputs": [],
   "source": [
    "## definimos el modelo en un functional API\n",
    "from tensorflow.keras.optimizers import RMSprop"
   ]
  },
  {
   "cell_type": "code",
   "execution_count": 13,
   "metadata": {},
   "outputs": [
    {
     "name": "stdout",
     "output_type": "stream",
     "text": [
      "Epoch 1/10\n",
      "20/20 - 180s - loss: 0.6628 - acc: 0.8090 - val_loss: 0.1152 - val_acc: 0.9550\n",
      "Epoch 2/10\n",
      "20/20 - 192s - loss: 0.2048 - acc: 0.9110 - val_loss: 0.4663 - val_acc: 0.8400\n",
      "Epoch 3/10\n",
      "20/20 - 316s - loss: 0.2815 - acc: 0.8875 - val_loss: 0.1123 - val_acc: 0.9550\n",
      "Epoch 4/10\n",
      "20/20 - 251s - loss: 0.2123 - acc: 0.9060 - val_loss: 0.1148 - val_acc: 0.9600\n",
      "Epoch 5/10\n",
      "20/20 - 159s - loss: 0.2060 - acc: 0.9100 - val_loss: 0.1521 - val_acc: 0.9350\n",
      "Epoch 6/10\n"
     ]
    },
    {
     "name": "stderr",
     "output_type": "stream",
     "text": [
      "C:\\Users\\Carmona\\anaconda3\\lib\\site-packages\\PIL\\TiffImagePlugin.py:771: UserWarning: Possibly corrupt EXIF data.  Expecting to read 32 bytes but only got 0. Skipping tag 270\n",
      "  \"Possibly corrupt EXIF data.  \"\n",
      "C:\\Users\\Carmona\\anaconda3\\lib\\site-packages\\PIL\\TiffImagePlugin.py:771: UserWarning: Possibly corrupt EXIF data.  Expecting to read 5 bytes but only got 0. Skipping tag 271\n",
      "  \"Possibly corrupt EXIF data.  \"\n",
      "C:\\Users\\Carmona\\anaconda3\\lib\\site-packages\\PIL\\TiffImagePlugin.py:771: UserWarning: Possibly corrupt EXIF data.  Expecting to read 8 bytes but only got 0. Skipping tag 272\n",
      "  \"Possibly corrupt EXIF data.  \"\n",
      "C:\\Users\\Carmona\\anaconda3\\lib\\site-packages\\PIL\\TiffImagePlugin.py:771: UserWarning: Possibly corrupt EXIF data.  Expecting to read 8 bytes but only got 0. Skipping tag 282\n",
      "  \"Possibly corrupt EXIF data.  \"\n",
      "C:\\Users\\Carmona\\anaconda3\\lib\\site-packages\\PIL\\TiffImagePlugin.py:771: UserWarning: Possibly corrupt EXIF data.  Expecting to read 8 bytes but only got 0. Skipping tag 283\n",
      "  \"Possibly corrupt EXIF data.  \"\n",
      "C:\\Users\\Carmona\\anaconda3\\lib\\site-packages\\PIL\\TiffImagePlugin.py:771: UserWarning: Possibly corrupt EXIF data.  Expecting to read 20 bytes but only got 0. Skipping tag 306\n",
      "  \"Possibly corrupt EXIF data.  \"\n",
      "C:\\Users\\Carmona\\anaconda3\\lib\\site-packages\\PIL\\TiffImagePlugin.py:771: UserWarning: Possibly corrupt EXIF data.  Expecting to read 48 bytes but only got 0. Skipping tag 532\n",
      "  \"Possibly corrupt EXIF data.  \"\n",
      "C:\\Users\\Carmona\\anaconda3\\lib\\site-packages\\PIL\\TiffImagePlugin.py:792: UserWarning: Corrupt EXIF data.  Expecting to read 2 bytes but only got 0. \n",
      "  warnings.warn(str(msg))\n"
     ]
    },
    {
     "name": "stdout",
     "output_type": "stream",
     "text": [
      "20/20 - 150s - loss: 0.1995 - acc: 0.9125 - val_loss: 0.0672 - val_acc: 0.9850\n",
      "Epoch 7/10\n",
      "20/20 - 134s - loss: 0.1786 - acc: 0.9255 - val_loss: 0.0331 - val_acc: 0.9850\n",
      "Epoch 8/10\n",
      "20/20 - 132s - loss: 0.1685 - acc: 0.9295 - val_loss: 0.0725 - val_acc: 0.9750\n",
      "Epoch 9/10\n",
      "20/20 - 146s - loss: 0.1816 - acc: 0.9255 - val_loss: 0.1017 - val_acc: 0.9600\n",
      "Epoch 10/10\n",
      "20/20 - 130s - loss: 0.1382 - acc: 0.9436 - val_loss: 0.0818 - val_acc: 0.9650\n"
     ]
    }
   ],
   "source": [
    "x= tf.keras.layers.Flatten()(last_output)\n",
    "x= tf.keras.layers.Dense(1024,activation=\"relu\")(x)\n",
    "x= tf.keras.layers.Dense(1,activation=\"sigmoid\")(x)\n",
    "model= Model(pre_trained_model.input,x)\n",
    "model.compile(loss=\"binary_crossentropy\",\n",
    "             optimizer=RMSprop(lr=0.0001),\n",
    "             metrics=[\"acc\"])\n",
    "history= model.fit(\n",
    "    train_dir,\n",
    "    validation_data=vali_dir,\n",
    "    validation_steps=2,\n",
    "    epochs=10,\n",
    "    steps_per_epoch=20,\n",
    "    verbose=2\n",
    ")"
   ]
  },
  {
   "cell_type": "code",
   "execution_count": 14,
   "metadata": {},
   "outputs": [
    {
     "data": {
      "text/plain": [
       "<Figure size 432x288 with 0 Axes>"
      ]
     },
     "execution_count": 14,
     "metadata": {},
     "output_type": "execute_result"
    },
    {
     "data": {
      "image/png": "[encoded data removed]",
      "text/plain": [
       "<Figure size 432x288 with 1 Axes>"
      ]
     },
     "metadata": {
      "needs_background": "light"
     },
     "output_type": "display_data"
    },
    {
     "data": {
      "text/plain": [
       "<Figure size 432x288 with 0 Axes>"
      ]
     },
     "metadata": {},
     "output_type": "display_data"
    }
   ],
   "source": [
    "%matplotlib inline\n",
    "\n",
    "import matplotlib.image  as mpimg\n",
    "import matplotlib.pyplot as plt\n",
    " \n",
    "#-----------------------------------------------------------\n",
    "# Retrieve a list of list results on training and test data\n",
    "# sets for each training epoch\n",
    "#-----------------------------------------------------------\n",
    "acc=history.history['acc']\n",
    "val_acc=history.history['val_acc']\n",
    "loss=history.history['loss']\n",
    "val_loss=history.history['val_loss']\n",
    "\n",
    "epochs=range(len(acc)) # Get number of epochs\n",
    "\n",
    "#------------------------------------------------\n",
    "# Plot training and validation accuracy per epoch\n",
    "#------------------------------------------------\n",
    "plt.plot(epochs, acc, 'r', \"Training Accuracy\")\n",
    "plt.plot(epochs, val_acc, 'b', \"Validation Accuracy\")\n",
    "plt.title('Training and validation accuracy')\n",
    "plt.figure()"
   ]
  },
  {
   "cell_type": "code",
   "execution_count": 15,
   "metadata": {},
   "outputs": [
    {
     "ename": "ModuleNotFoundError",
     "evalue": "No module named 'google.colab'",
     "output_type": "error",
     "traceback": [
      "\u001b[1;31m---------------------------------------------------------------------------\u001b[0m",
      "\u001b[1;31mModuleNotFoundError\u001b[0m                       Traceback (most recent call last)",
      "\u001b[1;32m<ipython-input-15-e5ee3b634a28>\u001b[0m in \u001b[0;36m<module>\u001b[1;34m\u001b[0m\n\u001b[0;32m      2\u001b[0m \u001b[1;33m\u001b[0m\u001b[0m\n\u001b[0;32m      3\u001b[0m \u001b[1;32mimport\u001b[0m \u001b[0mnumpy\u001b[0m \u001b[1;32mas\u001b[0m \u001b[0mnp\u001b[0m\u001b[1;33m\u001b[0m\u001b[1;33m\u001b[0m\u001b[0m\n\u001b[1;32m----> 4\u001b[1;33m \u001b[1;32mfrom\u001b[0m \u001b[0mgoogle\u001b[0m\u001b[1;33m.\u001b[0m\u001b[0mcolab\u001b[0m \u001b[1;32mimport\u001b[0m \u001b[0mfiles\u001b[0m\u001b[1;33m\u001b[0m\u001b[1;33m\u001b[0m\u001b[0m\n\u001b[0m\u001b[0;32m      5\u001b[0m \u001b[1;32mfrom\u001b[0m \u001b[0mkeras\u001b[0m\u001b[1;33m.\u001b[0m\u001b[0mpreprocessing\u001b[0m \u001b[1;32mimport\u001b[0m \u001b[0mimage\u001b[0m\u001b[1;33m\u001b[0m\u001b[1;33m\u001b[0m\u001b[0m\n\u001b[0;32m      6\u001b[0m \u001b[1;33m\u001b[0m\u001b[0m\n",
      "\u001b[1;31mModuleNotFoundError\u001b[0m: No module named 'google.colab'"
     ]
    }
   ],
   "source": [
    "#put your image:\n",
    "\n",
    "import numpy as np\n",
    "from google.colab import files\n",
    "from keras.preprocessing import image\n",
    "\n",
    "uploaded = files.upload()\n",
    "\n",
    "for fn in uploaded.keys():\n",
    " \n",
    "  # predicting images\n",
    "  path = '/content/' + fn\n",
    "  img = image.load_img(path, target_size=(150, 150))\n",
    "  x = image.img_to_array(img)\n",
    "  x = np.expand_dims(x, axis=0)\n",
    "\n",
    "  image_tensor = np.vstack([x])\n",
    "  classes = model.predict(image_tensor)\n",
    "  print(classes)\n",
    "  print(classes[0])\n",
    "  if classes[0]>0.5:\n",
    "    print(fn + \" is a dog\")\n",
    "  else:\n",
    "    print(fn + \" is a cat\")"
   ]
  },
  {
   "cell_type": "code",
   "execution_count": null,
   "metadata": {},
   "outputs": [],
   "source": []
  },
  {
   "cell_type": "code",
   "execution_count": null,
   "metadata": {},
   "outputs": [],
   "source": []
  },
  {
   "cell_type": "code",
   "execution_count": null,
   "metadata": {},
   "outputs": [],
   "source": []
  },
  {
   "cell_type": "code",
   "execution_count": null,
   "metadata": {},
   "outputs": [],
   "source": []
  },
  {
   "cell_type": "code",
   "execution_count": null,
   "metadata": {},
   "outputs": [],
   "source": []
  },
  {
   "cell_type": "code",
   "execution_count": null,
   "metadata": {},
   "outputs": [],
   "source": []
  },
  {
   "cell_type": "code",
   "execution_count": null,
   "metadata": {},
   "outputs": [],
   "source": []
  },
  {
   "cell_type": "code",
   "execution_count": null,
   "metadata": {},
   "outputs": [],
   "source": []
  }
 ],
 "metadata": {
  "kernelspec": {
   "display_name": "Python 3",
   "language": "python",
   "name": "python3"
  },
  "language_info": {
   "codemirror_mode": {
    "name": "ipython",
    "version": 3
   },
   "file_extension": ".py",
   "mimetype": "text/x-python",
   "name": "python",
   "nbconvert_exporter": "python",
   "pygments_lexer": "ipython3",
   "version": "3.7.9"
  }
 },
 "nbformat": 4,
 "nbformat_minor": 4
}
